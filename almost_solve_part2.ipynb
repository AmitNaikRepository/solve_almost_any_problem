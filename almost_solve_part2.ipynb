{
  "nbformat": 4,
  "nbformat_minor": 0,
  "metadata": {
    "colab": {
      "name": "almost_solve_part2",
      "provenance": [],
      "collapsed_sections": [],
      "authorship_tag": "ABX9TyOVjrxQVrpweRI4HdrZmtHZ",
      "include_colab_link": true
    },
    "kernelspec": {
      "name": "python3",
      "display_name": "Python 3"
    }
  },
  "cells": [
    {
      "cell_type": "markdown",
      "metadata": {
        "id": "view-in-github",
        "colab_type": "text"
      },
      "source": [
        "<a href=\"https://colab.research.google.com/github/AmitNaikRepository/solve_almost_any_problem/blob/main/almost_solve_part2.ipynb\" target=\"_parent\"><img src=\"https://colab.research.google.com/assets/colab-badge.svg\" alt=\"Open In Colab\"/></a>"
      ]
    },
    {
      "cell_type": "markdown",
      "metadata": {
        "id": "zMatOx4QH300"
      },
      "source": [
        "##This Notebook will help you to understand the basic concept. this notebook can act as toolkit when you are try to solve real life scenario "
      ]
    },
    {
      "cell_type": "code",
      "metadata": {
        "id": "7Uue5DXEHxSj"
      },
      "source": [
        "#import liabraries \r\n",
        "import pandas as pd \r\n",
        "import scipy as sparse \r\n",
        "from sklearn import decomposition \r\n",
        "from sklearn import ensemble \r\n",
        "from sklearn import metrics\r\n",
        "from sklearn import preprocessing "
      ],
      "execution_count": null,
      "outputs": []
    },
    {
      "cell_type": "code",
      "metadata": {
        "id": "KQhCS4rQIjza"
      },
      "source": [
        "#fucntion defination \r\n",
        "def run(fold):\r\n",
        "  #load the the data file \r\n",
        "  df=pd.read_csv('..input/asin/k_fold.csv')\r\n",
        "\r\n",
        "  #all the column but except the id , targets, kfold\r\n",
        "\r\n",
        "  features=[f for f in df.columns if f not in ('ids','targets','kfold')]\r\n",
        "\r\n",
        "  #fill with nan values \r\n",
        "  for col in feature:\r\n",
        "    df.loc[:,col]=df[col].astype(str).fillna('None')\r\n",
        "\r\n",
        "  \r\n",
        "  #get the training data on kfold \r\n",
        "  df_train=df[df.kfold!=fold].reset_index(drop=True)\r\n",
        "\r\n",
        "\r\n",
        "  #get the validation data on kfold \r\n",
        "  df_valid=df[df.kfold==fold].reset_index(dropo=True)\r\n",
        "\r\n",
        "  #intialize onehotencoder from scikitlearn \r\n",
        "  ohe=OneHotEncoder()\r\n",
        "  \r\n",
        "  #the data transform \r\n",
        "  x_train=ohe.transform(df_train[features])\r\n",
        "\r\n",
        "  y_valid=ohe.transform(df_valid[features])\r\n",
        "\r\n",
        "\r\n",
        "  #initialize the truncated SVD \r\n",
        "  # we are reducing the data to 120 components \r\n",
        "  svd=decomposition.TrunctedSVD(n_components=120)\r\n",
        "\r\n",
        "  #fit on the svd of data \r\n",
        "\r\n",
        "  full_sparse=sparse.vstack((x_train,X_valid))\r\n",
        "\r\n",
        "  svd.fit(full_sparse)\r\n",
        "\r\n",
        "  #transform the sparse training data \r\n",
        "  x_train=svd.transform(x_train)\r\n",
        "\r\n",
        "  #transform the sparse the valid data \r\n",
        "  x_valid=svd.transform(x_valid)\r\n",
        "\r\n",
        "  #model for the random forest model\r\n",
        "  model= ran\r\n",
        "\r\n",
        "\r\n"
      ],
      "execution_count": null,
      "outputs": []
    },
    {
      "cell_type": "code",
      "metadata": {
        "id": "blIWq3KYHrps"
      },
      "source": [
        ""
      ],
      "execution_count": null,
      "outputs": []
    }
  ]
}